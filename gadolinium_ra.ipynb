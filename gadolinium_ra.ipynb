{
 "cells": [
  {
   "cell_type": "code",
   "execution_count": null,
   "metadata": {},
   "outputs": [],
   "source": [
    "import numpy as np\n",
    "import pandas as pd\n",
    "import matplotlib.pyplot as plt \n",
    "import scipy.stats as stats\n",
    "\n",
    "%matplotlib inline\n",
    "\n",
    "#Tenemos los datos de las temperaturas y las magnetizaciones espontaneas del Gadolinio\n",
    "temp = [0.030717,0.061433, 0.095563, 0.12628, 0.153584, 0.191126, 0.262799, 0.334471,0.416382,0.505119,0.583618,0.761092,0.860068,0.938567,0.969283,0.986348,0.996587,1.006826]\n",
    "magn = [1, 0.99962, 0.997342, 0.992141, 0.983143, 0.976689, 0.945822, 0.921371,0.884088,0.836554,0.790311,0.651695,0.560614,0.406811,0.329929,0.213372,0.158282,0.095524]\n",
    "\n",
    "#Hacemos un array 2D para definir el Gadolinio\n",
    "gadolinio = np.array([temp, magn])\n",
    "\n",
    "#Cargamos los datos test con los que los compararemos\n",
    "#Para comparar los datos primero hemos de subir los test\n",
    "df  = pd.read_csv(\"curvasj.csv\")\n",
    "\n"
   ]
  }
 ],
 "metadata": {
  "language_info": {
   "name": "python"
  }
 },
 "nbformat": 4,
 "nbformat_minor": 2
}
