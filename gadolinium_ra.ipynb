{
 "cells": [
  {
   "cell_type": "code",
   "execution_count": 23,
   "metadata": {},
   "outputs": [],
   "source": [
    "import numpy as np\n",
    "import pandas as pd\n",
    "import matplotlib.pyplot as plt \n",
    "import scipy.stats as stats\n",
    "from sklearn.linear_model import LinearRegression\n",
    "from sklearn.metrics import mean_squared_error, r2_score\n",
    "from sklearn.model_selection import train_test_split\n",
    "from sklearn.linear_model import Lasso\n",
    "\n",
    "%matplotlib inline\n",
    "\n",
    "#Tenemos los datos de las temperaturas y las magnetizaciones espontaneas del Gadolinio\n",
    "temp =np.array([0.030717,0.061433, 0.095563, 0.12628, 0.153584, 0.191126, 0.262799, 0.334471,0.416382,0.505119,0.583618,0.761092,0.860068,0.938567,0.969283,0.986348,0.996587,1.006826])\n",
    "magn =np.array([1, 0.99962, 0.997342, 0.992141, 0.983143, 0.976689, 0.945822, 0.921371,0.884088,0.836554,0.790311,0.651695,0.560614,0.406811,0.329929,0.213372,0.158282,0.095524])\n",
    "\n",
    "\n",
    "\n",
    "#Cargamos los datos test con los que los compararemos\n",
    "df_test = pd.read_csv(\"curvasj.csv\")\n"
   ]
  },
  {
   "cell_type": "code",
   "execution_count": 24,
   "metadata": {},
   "outputs": [
    {
     "name": "stdout",
     "output_type": "stream",
     "text": [
      "slope: -0.8280641676574817\n",
      "y-intercept: 1.1348683350594702\n",
      "so...\n",
      " f(x) = -0.8280641676574817x + 1.1348683350594702\n"
     ]
    }
   ],
   "source": [
    "#Veamos primero una regresion lineal con el momento test J=1/2\n",
    "#Sabemos que la relaciñon entre T/Tc y M/Mc no es lineal por lo que no dará buenos resultados\n",
    "#Aún así, apliquemos el modelo\n",
    "m, b, r, p, se = stats.linregress(temp, magn)\n",
    "\n",
    "print('slope: {}\\ny-intercept: {}'.format(m, b))\n",
    "print('so...\\n f(x) = {}x + {}'.format(m, b))"
   ]
  }
 ],
 "metadata": {
  "kernelspec": {
   "display_name": "Python 3",
   "language": "python",
   "name": "python3"
  },
  "language_info": {
   "codemirror_mode": {
    "name": "ipython",
    "version": 3
   },
   "file_extension": ".py",
   "mimetype": "text/x-python",
   "name": "python",
   "nbconvert_exporter": "python",
   "pygments_lexer": "ipython3",
   "version": "3.11.8"
  }
 },
 "nbformat": 4,
 "nbformat_minor": 2
}
